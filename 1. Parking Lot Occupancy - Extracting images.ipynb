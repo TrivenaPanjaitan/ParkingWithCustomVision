{
 "cells": [
  {
   "cell_type": "markdown",
   "id": "29f96657",
   "metadata": {},
   "source": [
    "# Computer Vision Parking Lot Occupancy"
   ]
  },
  {
   "cell_type": "markdown",
   "id": "ea697e43",
   "metadata": {},
   "source": [
    "We will extract frames from the video in order to build a training dataset that we will use with customvision.ai"
   ]
  },
  {
   "cell_type": "markdown",
   "id": "b5e043e0",
   "metadata": {},
   "source": [
    "## Extracting images from video"
   ]
  },
  {
   "cell_type": "code",
   "execution_count": 1,
   "id": "9c99bd85",
   "metadata": {},
   "outputs": [],
   "source": [
    "import os\n",
    "import cv2\n",
    "import matplotlib.pyplot as plt\n",
    "import os.path\n",
    "import datetime\n",
    "import moviepy\n",
    "from moviepy.editor import *\n",
    "import shutil"
   ]
  },
  {
   "cell_type": "code",
   "execution_count": 2,
   "id": "675b797f",
   "metadata": {},
   "outputs": [],
   "source": [
    "VIDEODIR = 'video'"
   ]
  },
  {
   "cell_type": "code",
   "execution_count": 3,
   "id": "6ca43f82",
   "metadata": {},
   "outputs": [],
   "source": [
    "def createdir(dirname):\n",
    "    # Function to create directory if needed\n",
    "    import os.path\n",
    "    from os import path\n",
    "    if path.os.path.isdir(dirname) :\n",
    "        print(\"Directory:\", dirname, \"exists!\")\n",
    "    else:\n",
    "        print(\"Creating directory:\", dirname)\n",
    "        os.mkdir(dirname)\n",
    "        print(\"Done!\")"
   ]
  },
  {
   "cell_type": "code",
   "execution_count": 4,
   "id": "6e024a1e",
   "metadata": {},
   "outputs": [],
   "source": [
    "VIDEOFILE = VIDEODIR + '/' + 'parking.mp4'"
   ]
  },
  {
   "cell_type": "code",
   "execution_count": 5,
   "id": "39956d3e",
   "metadata": {},
   "outputs": [
    {
     "name": "stdout",
     "output_type": "stream",
     "text": [
      "2022-01-26 14:55:57.824061 10607736 parking.mp4\n"
     ]
    }
   ],
   "source": [
    "def ts_to_dt(ts):\n",
    "    return datetime.datetime.fromtimestamp(ts)\n",
    "\n",
    "for item in os.scandir(VIDEODIR):\n",
    "     print(ts_to_dt(item.stat().st_atime), item.stat().st_size, item.name)"
   ]
  },
  {
   "cell_type": "markdown",
   "id": "384adc02",
   "metadata": {},
   "source": [
    "## Video file informations"
   ]
  },
  {
   "cell_type": "code",
   "execution_count": 6,
   "id": "dcc660f2",
   "metadata": {},
   "outputs": [
    {
     "name": "stdout",
     "output_type": "stream",
     "text": [
      "\u001b[1;31;34mVideo File : video/parking.mp4\n",
      "\n",
      "- Width: 1100 \n",
      "- Height: 720\n",
      "- FPS = 24\n",
      "- Duration in seconds : 28.29\n",
      "- Number of frames = 678\n"
     ]
    }
   ],
   "source": [
    "MYVIDEOFILE = VideoFileClip(VIDEOFILE)\n",
    "\n",
    "fps = MYVIDEOFILE.fps\n",
    "w = MYVIDEOFILE.w\n",
    "h = MYVIDEOFILE.h\n",
    "duration = MYVIDEOFILE.duration\n",
    "nbframes = int(fps * duration)\n",
    "\n",
    "print(\"\\033[1;31;34mVideo File :\", VIDEOFILE)\n",
    "print(\"\\n- Width:\", w, \"\\n- Height:\", h)\n",
    "print(\"- FPS =\", round(fps))\n",
    "print(\"- Duration in seconds :\", duration)\n",
    "print(\"- Number of frames =\", nbframes)"
   ]
  },
  {
   "cell_type": "markdown",
   "id": "3d306aa5",
   "metadata": {},
   "source": [
    "## Extracting frames"
   ]
  },
  {
   "cell_type": "code",
   "execution_count": 7,
   "id": "d9a8f4ef",
   "metadata": {},
   "outputs": [
    {
     "name": "stdout",
     "output_type": "stream",
     "text": [
      "Creating directory: captures\n",
      "Done!\n"
     ]
    }
   ],
   "source": [
    "OUTPUTFILEDIR = 'captures'\n",
    "createdir(OUTPUTFILEDIR)"
   ]
  },
  {
   "cell_type": "code",
   "execution_count": 8,
   "id": "b1e6aeb1",
   "metadata": {},
   "outputs": [
    {
     "name": "stdout",
     "output_type": "stream",
     "text": [
      "1 Saving frame 24 to captures/parkingframe_0024.jpg\n",
      "2 Saving frame 48 to captures/parkingframe_0048.jpg\n",
      "3 Saving frame 72 to captures/parkingframe_0072.jpg\n",
      "4 Saving frame 96 to captures/parkingframe_0096.jpg\n",
      "5 Saving frame 120 to captures/parkingframe_0120.jpg\n",
      "6 Saving frame 144 to captures/parkingframe_0144.jpg\n",
      "7 Saving frame 168 to captures/parkingframe_0168.jpg\n",
      "8 Saving frame 192 to captures/parkingframe_0192.jpg\n",
      "9 Saving frame 216 to captures/parkingframe_0216.jpg\n",
      "10 Saving frame 240 to captures/parkingframe_0240.jpg\n",
      "11 Saving frame 264 to captures/parkingframe_0264.jpg\n",
      "12 Saving frame 288 to captures/parkingframe_0288.jpg\n",
      "13 Saving frame 312 to captures/parkingframe_0312.jpg\n",
      "14 Saving frame 336 to captures/parkingframe_0336.jpg\n",
      "15 Saving frame 360 to captures/parkingframe_0360.jpg\n",
      "16 Saving frame 384 to captures/parkingframe_0384.jpg\n",
      "17 Saving frame 408 to captures/parkingframe_0408.jpg\n",
      "18 Saving frame 432 to captures/parkingframe_0432.jpg\n",
      "19 Saving frame 456 to captures/parkingframe_0456.jpg\n",
      "20 Saving frame 480 to captures/parkingframe_0480.jpg\n",
      "21 Saving frame 504 to captures/parkingframe_0504.jpg\n",
      "22 Saving frame 528 to captures/parkingframe_0528.jpg\n",
      "23 Saving frame 552 to captures/parkingframe_0552.jpg\n",
      "24 Saving frame 576 to captures/parkingframe_0576.jpg\n",
      "25 Saving frame 600 to captures/parkingframe_0600.jpg\n",
      "26 Saving frame 624 to captures/parkingframe_0624.jpg\n",
      "27 Saving frame 648 to captures/parkingframe_0648.jpg\n",
      "28 Saving frame 672 to captures/parkingframe_0672.jpg\n",
      "\n",
      "Done: 28 frames were extracted.\n"
     ]
    }
   ],
   "source": [
    "capture = cv2.VideoCapture(VIDEOFILE)\n",
    "\n",
    "i = j = 1\n",
    "\n",
    "while(capture.isOpened()):\n",
    "    ret, frame = capture.read()\n",
    "    \n",
    "    if ret == False:\n",
    "        break\n",
    "\n",
    "    if i%fps == 0: # So One frame each second\n",
    "        if i <100:\n",
    "            newi = '00' + str(i)\n",
    "        if i>= 100 and i<1000:\n",
    "            newi = '0' + str(i)\n",
    "        \n",
    "        outputfile = OUTPUTFILEDIR + '/parkingframe_' + str(newi) + '.jpg'\n",
    "        print(j, \"Saving frame\", i, \"to\", outputfile)\n",
    "        \n",
    "        cv2.imwrite(outputfile,frame)\n",
    "        j += 1\n",
    "    i+=1\n",
    "\n",
    "print(\"\\nDone:\", j-1, \"frames were extracted.\")\n",
    "capture.release()"
   ]
  },
  {
   "cell_type": "code",
   "execution_count": 9,
   "id": "8c70eac4",
   "metadata": {},
   "outputs": [
    {
     "name": "stdout",
     "output_type": "stream",
     "text": [
      "Directory: captures with 28 files.\n"
     ]
    }
   ],
   "source": [
    "for root, _, files in os.walk(OUTPUTFILEDIR):\n",
    "    print(\"Directory:\", root, \"with\", len(files), \"files.\")"
   ]
  },
  {
   "cell_type": "markdown",
   "id": "55f0364a",
   "metadata": {},
   "source": [
    "## Zipping the images"
   ]
  },
  {
   "cell_type": "code",
   "execution_count": 10,
   "id": "5edea33e",
   "metadata": {},
   "outputs": [
    {
     "name": "stdout",
     "output_type": "stream",
     "text": [
      "Zipping files...\n",
      "Done.\n",
      "\n"
     ]
    }
   ],
   "source": [
    "print(\"Zipping files...\")\n",
    "shutil.make_archive(OUTPUTFILEDIR, \"zip\", \"captures\")\n",
    "print(\"Done.\\n\")"
   ]
  },
  {
   "cell_type": "code",
   "execution_count": 11,
   "id": "f7f6483e",
   "metadata": {},
   "outputs": [
    {
     "name": "stdout",
     "output_type": "stream",
     "text": [
      "-rwxrwxrwx 1 root root 6499894 Jan 31 14:20 captures.zip\r\n"
     ]
    }
   ],
   "source": [
    "!ls *.zip -l"
   ]
  },
  {
   "cell_type": "code",
   "execution_count": null,
   "id": "914e5390",
   "metadata": {},
   "outputs": [],
   "source": []
  }
 ],
 "metadata": {
  "kernelspec": {
   "display_name": "Python 3.6 - AzureML",
   "language": "python",
   "name": "python3-azureml"
  },
  "language_info": {
   "codemirror_mode": {
    "name": "ipython",
    "version": 3
   },
   "file_extension": ".py",
   "mimetype": "text/x-python",
   "name": "python",
   "nbconvert_exporter": "python",
   "pygments_lexer": "ipython3",
   "version": "3.6.9"
  }
 },
 "nbformat": 4,
 "nbformat_minor": 5
}
